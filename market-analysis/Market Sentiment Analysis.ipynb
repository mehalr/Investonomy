{
 "cells": [
  {
   "cell_type": "code",
   "execution_count": 83,
   "id": "7e610e47",
   "metadata": {},
   "outputs": [],
   "source": [
    "import pandas as pd\n",
    "import numpy as np\n",
    "import seaborn as sns\n",
    "from urllib.request import urlopen, Request\n",
    "from bs4 import BeautifulSoup\n",
    "import datetime\n",
    "from nltk.sentiment.vader import SentimentIntensityAnalyzer\n",
    "import matplotlib.pyplot as plt\n",
    "import preprocessor as p\n",
    "import re\n",
    "from textblob import TextBlob"
   ]
  },
  {
   "cell_type": "code",
   "execution_count": 84,
   "id": "3bd63bd6",
   "metadata": {},
   "outputs": [],
   "source": [
    "def get_data(ticker):\n",
    "    website_url = 'https://finviz.com/quote.ashx?t='\n",
    "    company_tikcers = [ticker]\n",
    "    news_tables = {}\n",
    "    for ticker in company_tikcers:\n",
    "        url = website_url + ticker\n",
    "        req = Request(url=url, headers={'user-agent': 'my-scrape'})\n",
    "        response = urlopen(req)\n",
    "        html = BeautifulSoup(response, 'html')\n",
    "        news_data = html.find(id='news-table')\n",
    "        news_tables[ticker] = news_data\n",
    "    parsed_data = []\n",
    "\n",
    "    for ticker, news_table in news_tables.items():\n",
    "        for row in news_table.findAll('tr'):\n",
    "            title = row.a.text\n",
    "            date_data = row.td.text.split(' ')\n",
    "        \n",
    "            if len(date_data) == 1:\n",
    "                time = date_data[0][0:7]\n",
    "            else:\n",
    "                date = datetime.datetime.strptime(date_data[0], '%b-%d-%y').strftime('%Y/%m/%d')\n",
    "                time = date_data[1][0:7]\n",
    "            parsed_data.append([ticker, date, time, title])\n",
    "    df = pd.DataFrame(parsed_data, columns=[\"Company\", \"Date\", \"Time\", \"News Headline\"])\n",
    "    df.to_csv('CompanyNewsHeadlines_WithoutSentiment.csv', index=False)\n",
    "    return df"
   ]
  },
  {
   "cell_type": "code",
   "execution_count": 85,
   "id": "386aa877",
   "metadata": {},
   "outputs": [],
   "source": [
    "def sentiment_analysis(tweets):\n",
    "    tweet_list = []\n",
    "    global_polarity = 0\n",
    "    tw_list=[]\n",
    "    pos=0\n",
    "    neg=1\n",
    "    for tweet in tweets:\n",
    "        count=20\n",
    "        tw2 = tweet\n",
    "        tw = tweet\n",
    "        tw=p.clean(tw)\n",
    "        tw=re.sub('&amp;','&',tw)\n",
    "        tw=re.sub(':','',tw)\n",
    "        tw=tw.encode('ascii', 'ignore').decode('ascii')\n",
    "        blob = TextBlob(tw)\n",
    "        polarity = 0\n",
    "        for sentence in blob.sentences:\n",
    "\n",
    "            polarity += sentence.sentiment.polarity\n",
    "            if polarity>0:\n",
    "                pos=pos+1\n",
    "            if polarity<0:\n",
    "                neg=neg+1\n",
    "\n",
    "            global_polarity += sentence.sentiment.polarity\n",
    "        if count > 0:\n",
    "            tw_list.append(tw2)\n",
    "\n",
    "        tweet_list.append((tw, polarity))\n",
    "        count=count-1\n",
    "    if len(tweet_list) != 0:\n",
    "        global_polarity = global_polarity / len(tweet_list)\n",
    "    else:\n",
    "        global_polarity = global_polarity\n",
    "    neutral=100-pos-neg\n",
    "    if neutral<0:\n",
    "        neg=neg+neutral\n",
    "        neutral=20\n",
    "    print()\n",
    "    print(\"Positive Tweets :\",pos,\"Negative Tweets :\",neg,\"Neutral Tweets :\",neutral)\n",
    "    labels=['Positive','Negative','Neutral']\n",
    "    sizes = [pos,neg,neutral]\n",
    "    explode = (0, 0, 0)\n",
    "    fig = plt.figure(figsize=(7.2,4.8),dpi=65)\n",
    "    fig1, ax1 = plt.subplots(figsize=(7.2,4.8),dpi=65)\n",
    "    ax1.pie(sizes, explode=explode, labels=labels, autopct='%1.1f%%', startangle=90)\n",
    "    # Equal aspect ratio ensures that pie is drawn as a circle\n",
    "    ax1.axis('equal')  \n",
    "    plt.tight_layout()\n",
    "    plt.savefig('SA.png')\n",
    "    plt.close(fig)\n",
    "    #plt.show()\n",
    "    if global_polarity>0:\n",
    "        print()\n",
    "        print(\"Tweets Polarity: Overall Positive\")\n",
    "        tw_pol=\"Overall Positive\"\n",
    "    else:\n",
    "        print()\n",
    "        print(\"Tweets Polarity: Overall Negative\")\n",
    "        tw_pol=\"Overall Negative\"\n",
    "    return global_polarity,tw_list,tw_pol,pos,neg,neutral"
   ]
  },
  {
   "cell_type": "code",
   "execution_count": 86,
   "id": "901ed701",
   "metadata": {},
   "outputs": [],
   "source": [
    "def recommendation(global_polarity,today_stock,mean, quote):\n",
    "    if today_stock < mean:\n",
    "        if global_polarity > 0:\n",
    "            idea=\"RISE\"\n",
    "            decision=\"BUY\"\n",
    "            print()\n",
    "            print(\"According to the ML Predictions and Sentiment Analysis of Tweets, a\",idea,\"in\",quote,\"stock is expected => \",decision)\n",
    "        elif global_polarity <= 0:\n",
    "            idea=\"FALL\"\n",
    "            decision=\"SELL\"\n",
    "            print()\n",
    "            print(\"According to the ML Predictions and Sentiment Analysis of Tweets, a\",idea,\"in\",quote,\"stock is expected => \",decision)\n",
    "    else:\n",
    "        idea=\"FALL\"\n",
    "        decision=\"SELL\"\n",
    "        print()\n",
    "        print(\"According to the ML Predictions and Sentiment Analysis of Tweets, a\",idea,\"in\",quote,\"stock is expected => \",decision)\n",
    "    return idea, decision"
   ]
  },
  {
   "cell_type": "code",
   "execution_count": 87,
   "id": "300b88ae",
   "metadata": {},
   "outputs": [],
   "source": [
    "df = get_data('AAPL')"
   ]
  },
  {
   "cell_type": "code",
   "execution_count": 88,
   "id": "d6bd8c57",
   "metadata": {},
   "outputs": [
    {
     "name": "stdout",
     "output_type": "stream",
     "text": [
      "\n",
      "Positive Tweets : 35 Negative Tweets : 13 Neutral Tweets : 52\n",
      "\n",
      "Tweets Polarity: Overall Positive\n"
     ]
    },
    {
     "data": {
      "image/png": "[encoded data removed]",
      "text/plain": [
       "<Figure size 468x312 with 1 Axes>"
      ]
     },
     "metadata": {},
     "output_type": "display_data"
    }
   ],
   "source": [
    "sentiment = sentiment_analysis(df['News Headline'])"
   ]
  },
  {
   "cell_type": "code",
   "execution_count": 89,
   "id": "db2c1cd9",
   "metadata": {},
   "outputs": [
    {
     "name": "stdout",
     "output_type": "stream",
     "text": [
      "\n",
      "According to the ML Predictions and Sentiment Analysis of Tweets, a FALL in AAPL stock is expected =>  SELL\n"
     ]
    },
    {
     "data": {
      "text/plain": [
       "('FALL', 'SELL')"
      ]
     },
     "execution_count": 89,
     "metadata": {},
     "output_type": "execute_result"
    }
   ],
   "source": [
    "recommendation(sentiment[0], 168.43, 155.91, 'AAPL')"
   ]
  },
  {
   "cell_type": "code",
   "execution_count": null,
   "id": "939dbb05",
   "metadata": {},
   "outputs": [],
   "source": []
  }
 ],
 "metadata": {
  "kernelspec": {
   "display_name": "Python 3 (ipykernel)",
   "language": "python",
   "name": "python3"
  },
  "language_info": {
   "codemirror_mode": {
    "name": "ipython",
    "version": 3
   },
   "file_extension": ".py",
   "mimetype": "text/x-python",
   "name": "python",
   "nbconvert_exporter": "python",
   "pygments_lexer": "ipython3",
   "version": "3.8.12"
  }
 },
 "nbformat": 4,
 "nbformat_minor": 5
}
